{
 "cells": [
  {
   "cell_type": "markdown",
   "metadata": {},
   "source": [
    "# RL Exploration considering Uncertainty"
   ]
  },
  {
   "cell_type": "markdown",
   "metadata": {},
   "source": [
    "# 1. Theoretical view"
   ]
  },
  {
   "cell_type": "markdown",
   "metadata": {},
   "source": [
    "## 1-1. Posterior Sampling for Reinforcement Learning (PSRL)\n",
    "\n",
    "Assume the reward $\\mu$ and the transition $P$ is stochastic. For each episode, one sample an MDP from the posterior distribution, conditioned on the history $\\mathcal{F}_{t}$ that is generated up to episode $t$. Then, the algorithm computes the optimal policy given the sampled MDP."
   ]
  },
  {
   "cell_type": "markdown",
   "metadata": {},
   "source": [
    "## 1-2. Uncertainty Bellman Equation (UBE)\n",
    "\n",
    "Assume the posterior distributions of $\\mu$ and $P$ can be derived. Then, $\\textbf{Uncertainty Bellman Equation}$ is\n",
    "\n",
    "\\begin{equation}\n",
    "u_{sa}^{h}\n",
    "=\\nu_{sa}^{h}+\\sum_{s'a'}\\pi_{s'a'}^{h}\\mathbb{E}\\left( P_{s'sa}^{h} | \\mathcal{F}_{t} \\right)u_{s'a'}^{h+1}\n",
    "\\end{equation}\n",
    "\n",
    "where $\\nu_{sa}^{h}$ is the local uncertainty at $(s,a)$, which is given by\n",
    "\n",
    "\\begin{equation}\n",
    "\\nu_{sa}^{h}=\\mathrm{Var}\\left(\\hat{\\mu}_{sa}^{h} | \\mathcal{F}_{t} \\right)+Q_{\\mathrm{max}}^{2}\\sum_{s'}\\frac{\\mathrm{Var}\\left(\\hat{P}_{s'sa}^{h} | \\mathcal{F}_{t} \\right)}{\\mathbb{E}\\left( \\hat{P}_{s'sa}^{h} | \\mathcal{F}_{t} \\right)}\n",
    "\\end{equation}\n",
    "\n",
    "Given UBE, one can approximate the posterior distribution of Q value as\n",
    "\n",
    "\\begin{equation}\n",
    "Q_{sa}^{h}\\sim\\mathcal{N}\\left( \\bar{Q}_{sa}^{h}, \\mathbf{diag}(u_{sa}^{h}) \\right) \\\\\n",
    "\\bar{Q}_{sa}^{h}=\\mathbb{E}\\left( \\hat{\\mu}_{sa}^{h} | \\mathcal{F}_{t} \\right)+\\sum_{s',a'}\\pi_{s'a'}^{h}\\mathbb{E}\\left( \\hat{P}_{s'sa}^{h} | \\mathcal{F}_{t} \\right)\\bar{Q}_{s'a'}^{h+1}\n",
    "\\end{equation}\n",
    "\n",
    "and use it to perform Thompson sampling(=posterior sampling) as an exploration strategy.\n",
    "\n",
    "\\begin{equation}\n",
    "a=\\mathrm{argmax}_{b}\\left( \\bar{Q}_{sb}^{h}+\\epsilon_{b}\\cdot\\left( u_{sb}^{h} \\right)^{0.5} \\right) \\\\\n",
    "\\epsilon_{b}\\sim\\mathcal{N}(0,1)\n",
    "\\end{equation}"
   ]
  },
  {
   "cell_type": "code",
   "execution_count": 1,
   "metadata": {},
   "outputs": [],
   "source": [
    "import numpy as np\n",
    "import torch\n",
    "import torch.nn as nn\n",
    "import torch.distributions as D\n",
    "import torch.nn.functional as F"
   ]
  },
  {
   "cell_type": "code",
   "execution_count": null,
   "metadata": {},
   "outputs": [],
   "source": []
  }
 ],
 "metadata": {
  "kernelspec": {
   "display_name": "Python 3",
   "language": "python",
   "name": "python3"
  },
  "language_info": {
   "codemirror_mode": {
    "name": "ipython",
    "version": 3
   },
   "file_extension": ".py",
   "mimetype": "text/x-python",
   "name": "python",
   "nbconvert_exporter": "python",
   "pygments_lexer": "ipython3",
   "version": "3.7.7"
  }
 },
 "nbformat": 4,
 "nbformat_minor": 4
}
